{
 "cells": [
  {
   "cell_type": "code",
   "execution_count": 1,
   "id": "5a4af870",
   "metadata": {},
   "outputs": [
    {
     "name": "stdout",
     "output_type": "stream",
     "text": [
      "[88 45 53 86 33 86 85 30 89 53 41 96 56 38 62 71 51 86 68 29 28 47 33 37\n",
      " 25 36 33 94 73 46 42 34 79 72 88 99 82 62 57 42 28 55 67 62 60 96 61 57\n",
      " 75 93 34 75 53 32 28 73 51 69 91 35]\n",
      "                          Score\n",
      "Valid                    60.000\n",
      "Mode                     28.000\n",
      "Median                   57.000\n",
      "Mean                     59.167\n",
      "Std. Deviation           22.211\n",
      "Variance                493.328\n",
      "Skewness                  0.163\n",
      "Std. Error of Skewness    0.316\n",
      "Kurtosis                 -1.241\n",
      "Std. Error of Kurtosis    0.632\n",
      "Minimum                  25.000\n",
      "Maximum                  99.000\n",
      "25th percentile          37.750\n",
      "50th percentile          57.000\n",
      "75th percentile          76.000\n",
      "90th percentile          89.200\n",
      "95th percentile          94.100\n"
     ]
    }
   ],
   "source": [
    "from scipy import stats\n",
    "import numpy as np\n",
    "import pandas as pd\n",
    "\n",
    "data = (\"88 45 53 86 33 86 85 30 89 53 41 96 56 38 62 \"\n",
    "        \"71 51 86 68 29 28 47 33 37 25 36 33 94 73 46 \"\n",
    "        \"42 34 79 72 88 99 82 62 57 42 28 55 67 62 60 \"\n",
    "        \"96 61 57 75 93 34 75 53 32 28 73 51 69 91 35\")\n",
    "\n",
    "data_num = data.split()\n",
    "data_num = [int(i) for i in data_num]\n",
    "data_num = np.array(data_num)\n",
    "print(data_num)\n",
    "\n",
    "pop = len(data_num)\n",
    "mode = stats.mode(data_num, keepdims=True)[0][0]\n",
    "median = np.median(data_num)\n",
    "mean = np.mean(data_num)\n",
    "stdev = np.std(data_num, ddof=1)\n",
    "variance = np.var(data_num, ddof=1)\n",
    "skewness = stats.skew(data_num)\n",
    "kurtosis = stats.kurtosis(data_num)\n",
    "sem = stats.sem(data_num)\n",
    "se_skew = np.sqrt(6/pop)\n",
    "se_kurt = np.sqrt(24/pop)\n",
    "\n",
    "p25, p50, p75, p90, p95 = np.percentile(data_num, [25, 50, 75, 90, 95])\n",
    "\n",
    "table = {\n",
    "    \"Valid\": pop,\n",
    "    \"Mode\": mode,\n",
    "    \"Median\": median,\n",
    "    \"Mean\": round(mean, 3),\n",
    "    \"Std. Deviation\": round(stdev, 3),\n",
    "    \"Variance\": round(variance, 3),\n",
    "    \"Skewness\": round(skewness, 3),\n",
    "    \"Std. Error of Skewness\": round(se_skew, 3),\n",
    "    \"Kurtosis\": round(kurtosis, 3),\n",
    "    \"Std. Error of Kurtosis\": round(se_kurt, 3),\n",
    "    \"Minimum\": np.min(data_num),\n",
    "    \"Maximum\": np.max(data_num),\n",
    "    \"25th percentile\": round(p25, 3),\n",
    "    \"50th percentile\": round(p50, 3),\n",
    "    \"75th percentile\": round(p75, 3),\n",
    "    \"90th percentile\": round(p90, 3),\n",
    "    \"95th percentile\": round(p95, 3),\n",
    "}\n",
    "\n",
    "df = pd.DataFrame(table, index=[\"Score\"]).T\n",
    "print(df)\n"
   ]
  }
 ],
 "metadata": {
  "kernelspec": {
   "display_name": "Python 3 (ipykernel)",
   "language": "python",
   "name": "python3"
  },
  "language_info": {
   "codemirror_mode": {
    "name": "ipython",
    "version": 3
   },
   "file_extension": ".py",
   "mimetype": "text/x-python",
   "name": "python",
   "nbconvert_exporter": "python",
   "pygments_lexer": "ipython3",
   "version": "3.11.5"
  }
 },
 "nbformat": 4,
 "nbformat_minor": 5
}
